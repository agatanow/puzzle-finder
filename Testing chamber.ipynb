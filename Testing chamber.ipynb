{
 "cells": [
  {
   "cell_type": "code",
   "execution_count": 656,
   "metadata": {},
   "outputs": [],
   "source": [
    "#includes\n",
    "%matplotlib inline\n",
    "\n",
    "import matplotlib.pyplot as plt\n",
    "import cv2\n",
    "import numpy as np\n",
    "from numpy.linalg import norm\n",
    "from itertools import combinations\n",
    "import os\n",
    "import math\n",
    "from collections import deque\n",
    "from scipy.spatial import distance as dist"
   ]
  },
  {
   "cell_type": "code",
   "execution_count": 580,
   "metadata": {},
   "outputs": [
    {
     "data": {
      "text/plain": [
       "'data/set0/1.png'"
      ]
     },
     "execution_count": 580,
     "metadata": {},
     "output_type": "execute_result"
    }
   ],
   "source": [
    "#files\n",
    "SETS = [('set0', 6),\n",
    "        ('set1', 20),\n",
    "        ('set2', 20),\n",
    "        ('set3', 20),\n",
    "        ('set4', 20),\n",
    "        ('set5', 200),\n",
    "        ('set6', 200),\n",
    "        ('set7', 20),\n",
    "        ('set8', 100)]\n",
    "\n",
    "def get_file_path(set_id, img_id):\n",
    "    DATA_FOLDER = 'data'\n",
    "    EXTENSION = '.png'\n",
    "    return os.path.join(DATA_FOLDER, SETS[set_id][0], str(img_id) + EXTENSION)\n",
    "\n",
    "get_file_path(0, 1)"
   ]
  },
  {
   "cell_type": "code",
   "execution_count": 678,
   "metadata": {},
   "outputs": [
    {
     "data": {
      "image/png": "[encoded data removed]",
      "text/plain": [
       "<Figure size 432x288 with 1 Axes>"
      ]
     },
     "metadata": {
      "needs_background": "light"
     },
     "output_type": "display_data"
    }
   ],
   "source": [
    "# helpers\n",
    "def load_file(path: str):\n",
    "    img = cv2.imread(path, cv2.IMREAD_GRAYSCALE)\n",
    "    return img\n",
    "\n",
    "def show_img(img, as_gray=False, name='fe.pdf'):\n",
    "    fig, ax = plt.subplots()\n",
    "    if as_gray:\n",
    "        ax.imshow(img, interpolation='nearest', cmap=plt.cm.gray)\n",
    "        fig.savefig(name)\n",
    "    else:\n",
    "        ax.imshow(img, interpolation='nearest')\n",
    "        fig.savefig(name)\n",
    "\n",
    "img = load_file(get_file_path(0,1))\n",
    "show_img(img, True)"
   ]
  },
  {
   "cell_type": "code",
   "execution_count": 693,
   "metadata": {},
   "outputs": [],
   "source": [
    "def order_points(pts):\n",
    "    xSorted = pts[np.argsort(pts[:, 0]), :]\n",
    " \n",
    "    leftMost = xSorted[:2, :]\n",
    "    rightMost = xSorted[2:, :]\n",
    " \n",
    "\n",
    "    leftMost = leftMost[np.argsort(leftMost[:, 1]), :]\n",
    "    (tl, bl) = leftMost\n",
    " \n",
    "\n",
    "    D = dist.cdist(tl[np.newaxis], rightMost, \"euclidean\")[0]\n",
    "    (br, tr) = rightMost[np.argsort(D)[::-1], :]\n",
    " \n",
    "\n",
    "    return np.array([tl, tr, br, bl], dtype=\"float32\")\n",
    "\n",
    "def four_point_transform(image, pts):\n",
    "    (tl, tr, br, bl) = pts\n",
    " \n",
    "    widthA = np.sqrt(((br[0] - bl[0]) ** 2) + ((br[1] - bl[1]) ** 2))\n",
    "    widthB = np.sqrt(((tr[0] - tl[0]) ** 2) + ((tr[1] - tl[1]) ** 2))\n",
    "    maxWidth = max(int(widthA), int(widthB))\n",
    " \n",
    "    heightA = np.sqrt(((tr[0] - br[0]) ** 2) + ((tr[1] - br[1]) ** 2))\n",
    "    heightB = np.sqrt(((tl[0] - bl[0]) ** 2) + ((tl[1] - bl[1]) ** 2))\n",
    "    maxHeight = max(int(heightA), int(heightB))\n",
    " \n",
    "    dst = np.array([\n",
    "        [0, 0],\n",
    "        [maxWidth - 1, 0],\n",
    "        [maxWidth - 1, maxHeight - 1],\n",
    "        [0, maxHeight - 1]], dtype = \"float32\")\n",
    " \n",
    "    M = cv2.getPerspectiveTransform(pts, dst)\n",
    "    warped = cv2.warpPerspective(image, M, (maxWidth, maxHeight))\n",
    "\n",
    "    return warped\n",
    "\n",
    "def angle_between_points( p0, p1, p2 ):\n",
    "    a = (p1[0]-p0[0])**2 + (p1[1]-p0[1])**2\n",
    "    b = (p1[0]-p2[0])**2 + (p1[1]-p2[1])**2\n",
    "    c = (p2[0]-p0[0])**2 + (p2[1]-p0[1])**2\n",
    "    res = math.acos( (a+b-c) / math.sqrt(4*a*b) ) * 180/np.pi\n",
    "    return res\n",
    "    \n",
    "def check_line_with_mask(mask, p1, p2):\n",
    "    line_mask = np.zeros_like(mask)\n",
    "    cv2.line(line_mask, p1, p2, 255, 2)\n",
    "#     show_img(mask, True)\n",
    "#     show_img(line_mask, True)\n",
    "#     show_img(np.logical_and(line_mask, mask), True)\n",
    "    res = (np.sum(line_mask != 0) - np.sum(np.logical_and(line_mask, mask)  != 0)) / np.sum(line_mask != 0)\n",
    "#     print(res,np.sum(line_mask != 0), np.sum(np.logical_and(line_mask, mask)  != 0))\n",
    "    return res\n",
    "    \n",
    "def are_the_same(p1, p2):\n",
    "    return p1[0] == p2[0] and p1[1] == p2[1]\n",
    "    \n",
    "def calc_a_and_b(p1, p2):\n",
    "    a = p1 - p2\n",
    "    if a[0] == 0.:\n",
    "        return math.inf, 0\n",
    "    a = a[1]/a[0]\n",
    "    return a, p1[1] - a*p1[0]\n",
    "\n",
    "def max_points(a, b, img, p):\n",
    "    line_points = set()\n",
    "    if math.isinf(a):\n",
    "        line_points = set([(p[0], img.shape[0]-1), (p[0], 0)])\n",
    "    elif a == 0.:\n",
    "        line_points = set([(0, int(b)), (img.shape[1]-1, int(b))])\n",
    "    else:\n",
    "        if 0 <= b < img.shape[0]: #y range\n",
    "            line_points.add((0, int(b)))\n",
    "        if 0 <= int(-b/a) < img.shape[1]: #x range\n",
    "            line_points.add((int(-b/a), 0))\n",
    "        if 0 <= int((img.shape[0]-1-b)/a) < img.shape[1]: #x range\n",
    "            line_points.add((int((img.shape[0]-1-b)/a), img.shape[0]-1))\n",
    "        if 0 <= int(a* (img.shape[1]-1) + b) < img.shape[0]: #y range\n",
    "            line_points.add((img.shape[1]-1, int(a* (img.shape[1]-1) + b)))\n",
    "    \n",
    "    if len(line_points) > 2:\n",
    "        line_points = max(combinations(line_points, 2), key=lambda k: cv2.norm(np.array(k[0]) - np.array(k[1])))\n",
    "            \n",
    "    return list(line_points)\n",
    "\n",
    "def line_intersect(p1, p2, p3, p4):\n",
    "    if p2[0] == p1[0]:\n",
    "        a, b = calc_a_and_b(np.array(p3), np.array(p4))\n",
    "        return (p2[0], int(p2[0] * a + b))\n",
    "    elif p3[0] == p4[0]:\n",
    "        a, b = calc_a_and_b(np.array(p1), np.array(p2))\n",
    "        return (p3[0], int(p3[0] * a + b))\n",
    "    \n",
    "    Ax = p1[0]\n",
    "    Ay = p1[1]\n",
    "    Bx = p2[0]\n",
    "    By = p2[1]\n",
    "    Cx = p3[0]\n",
    "    Cy = p3[1]\n",
    "    Dx = p4[0]\n",
    "    Dy = p4[1]\n",
    "    \n",
    "    x=((Bx-Ax)*(Dx*Cy-Dy*Cx)-(Dx-Cx)*(Bx*Ay-By*Ax))/((By-Ay)*(Dx-Cx)-(Dy-Cy)*(Bx-Ax))\n",
    "\n",
    "    y=((Dy-Cy)*(Bx*Ay-By*Ax)-(By-Ay)*(Dx*Cy-Dy*Cx))/((Dy-Cy)*(Bx-Ax)-(By-Ay)*(Dx-Cx))\n",
    "    return (int(x), int(y))\n",
    "\n",
    "def destroy_perspective(img):\n",
    "    _, thresh = cv2.threshold(img, 175, 255, cv2.THRESH_BINARY)\n",
    "    \n",
    "    res = cv2.cvtColor(thresh, cv2.COLOR_GRAY2RGB)\n",
    "    res[:,:,:] = 0\n",
    "    mask = cv2.cvtColor(res, cv2.COLOR_RGB2GRAY)\n",
    "    \n",
    "    contours, hierarchy = cv2.findContours(thresh,cv2.RETR_EXTERNAL,cv2.CHAIN_APPROX_SIMPLE)\n",
    "    cnt = max(contours, key = cv2.contourArea)\n",
    "    cv2.drawContours(res,[cnt],0, (0,255,0), 2)\n",
    "    \n",
    "    hull = cv2.convexHull(cnt)\n",
    "    cv2.drawContours(res,[hull], 0, (255,255,0), 2)    \n",
    "    cv2.drawContours(mask,[cnt], 0, 255, 5)\n",
    "    \n",
    "    epsilon = 0.005*cv2.arcLength(hull,True)\n",
    "    approx = cv2.approxPolyDP(hull,epsilon,True)\n",
    "    \n",
    "    angles = {tuple(approx[point_id][0]): ((approx[point_id-1][0], approx[(point_id+1) % len(approx)][0]), angle_between_points(approx[point_id-1][0], approx[point_id][0], approx[(point_id+1) % len(approx)][0])) for point_id in range(len(approx))}\n",
    "    lines = [[(p1[0], p2[0]), cv2.norm(p2[0] - p1[0])] for p1, p2 in zip(approx[:-1], approx[1:])]\n",
    "    lines.append([(approx[0][0], approx[-1][0]), cv2.norm(approx[0][0] - approx[-1][0])])\n",
    "    \n",
    "    longest = max(lines, key=lambda d: d[1])[1]\n",
    "    bottom = min(lines, key=lambda d: 0.25 * check_line_with_mask(mask, tuple(d[0][0]), tuple(d[0][1])) + 0.25 * (longest - d[1])/longest + 0.25 * abs(90 - angles[tuple(d[0][0])][1])/90 + 0.25 * abs(90 - angles[tuple(d[0][1])][1])/90)\n",
    "#     cv2.drawContours(res,[approx],0,(255,0,255),2)\n",
    "    \n",
    "    max_point = max(approx, key=lambda d: norm(np.cross(bottom[0][1]-bottom[0][0], bottom[0][0]-d[0]))/norm(bottom[0][1]-bottom[0][0]))[0]\n",
    "    bottom_a, bottom_b = calc_a_and_b(bottom[0][0], bottom[0][1])\n",
    "    line_b = max_point[1] - bottom_a*max_point[0]\n",
    "    if bottom_a > 0 and line_b > bottom_b:\n",
    "        bottom[0] = (bottom[0][1], bottom[0][0])\n",
    "    \n",
    "    other_neighbor = angles[tuple(bottom[0][0])][0][0] if not are_the_same(angles[tuple(bottom[0][0])][0][0],  bottom[0][1]) else angles[tuple(bottom[0][0])][0][1]\n",
    "    other_neighbor2 = angles[tuple(bottom[0][1])][0][0] if not are_the_same(angles[tuple(bottom[0][1])][0][0], bottom[0][0]) else angles[tuple(bottom[0][1])][0][1]\n",
    "    \n",
    "    side_a, side_b = calc_a_and_b(other_neighbor, bottom[0][0])\n",
    "    side2_a, side2_b = calc_a_and_b(other_neighbor2, bottom[0][1])\n",
    "    side_points = max_points(side_a, side_b, res, other_neighbor)\n",
    "    side2_points = max_points(side2_a, side2_b, res, other_neighbor2)\n",
    "    print(bottom_a, bottom_b, line_b)\n",
    " \n",
    "    line_points = max_points(bottom_a, line_b, res, max_point)\n",
    "    point1 = line_intersect(*side_points, *line_points)\n",
    "    point2 = line_intersect(*side2_points, *line_points)\n",
    "    \n",
    "    ar = np.array([np.array(point2), np.array(point1), bottom[0][0], bottom[0][1]]).astype('float32')\n",
    "    \n",
    "    \n",
    "#     cv2.line(res, tuple(bottom[0][0]), tuple(bottom[0][1]), (0,0,255), 2)\n",
    "#     cv2.line(res, tuple(bottom[0][0]), tuple(other_neighbor), (255,0,0), 2)    \n",
    "#     cv2.line(res, tuple(bottom[0][1]), tuple(other_neighbor2), (255,0,0), 2)\n",
    "    \n",
    "#     cv2.line(res, line_points[0], line_points[1], (0,125,255), 3)\n",
    "    \n",
    "#     for r in approx:    \n",
    "#         cv2.circle(res, tuple(r[0]), 8, (255,0,0), -1)\n",
    "#     cv2.circle(res, tuple(max_point), 8, (0,125,255), -1)\n",
    "    \n",
    "#     cv2.circle(res, line_points[0], 8, (0,0,255), -1)\n",
    "    \n",
    "#     cv2.circle(res, line_points[1], 8, (0,0,255), -1)\n",
    "    \n",
    "#     cv2.circle(res, side_points[0], 8, (255,0,0), -1)\n",
    "#     cv2.circle(res, side_points[1], 8, (255,0,0), -1)\n",
    "#     cv2.line(res, side_points[0], side_points[1], (255,0,0), 3)\n",
    "#     cv2.circle(res, side2_points[0], 8, (255,0,0), -1)\n",
    "#     cv2.circle(res, side2_points[1], 8, (255,0,0), -1)\n",
    "#     cv2.line(res, side2_points[0], side2_points[1], (255,0,0), 3)\n",
    "    \n",
    "\n",
    "#     cv2.circle(res, point1, 10, (255,100,100), -1)\n",
    "#     cv2.circle(res, point2, 8, (255,100,100), -1)\n",
    "#     cv2.circle(res, tuple(bottom[0][0]), 10, (255,100,100), -1)\n",
    "#     cv2.circle(res, tuple(bottom[0][1]), 10, (255,100,100), -1)\n",
    "    \n",
    "    show_img(res, False, 'in_progress.pdf')\n",
    "    \n",
    "    points = np.array([np.array(point2), np.array(point1), bottom[0][0], bottom[0][1]]).astype('float32')\n",
    "    points = deque(order_points(points))\n",
    "    up_points = set([point1, point2])\n",
    "    \n",
    "    for _ in range(4):\n",
    "        if tuple(points[0]) in up_points and tuple(points[1]) in up_points:\n",
    "            break\n",
    "        points.rotate(1)\n",
    "    \n",
    "    return np.array(points)\n",
    "   "
   ]
  },
  {
   "cell_type": "code",
   "execution_count": 634,
   "metadata": {},
   "outputs": [],
   "source": []
  },
  {
   "cell_type": "code",
   "execution_count": 694,
   "metadata": {
    "scrolled": false
   },
   "outputs": [
    {
     "name": "stdout",
     "output_type": "stream",
     "text": [
      "0.4708249496981891 -12.098591549295747 189.50905432595573\n"
     ]
    },
    {
     "data": {
      "image/png": "[encoded data removed]",
      "text/plain": [
       "<Figure size 432x288 with 1 Axes>"
      ]
     },
     "metadata": {
      "needs_background": "light"
     },
     "output_type": "display_data"
    },
    {
     "data": {
      "image/png": "[encoded data removed]",
      "text/plain": [
       "<Figure size 432x288 with 1 Axes>"
      ]
     },
     "metadata": {
      "needs_background": "light"
     },
     "output_type": "display_data"
    },
    {
     "data": {
      "image/png": "[encoded data removed]",
      "text/plain": [
       "<Figure size 432x288 with 1 Axes>"
      ]
     },
     "metadata": {
      "needs_background": "light"
     },
     "output_type": "display_data"
    }
   ],
   "source": [
    "#Testing\n",
    "for set_id in range(1):\n",
    "    set_id = 7\n",
    "    for image_id in range(min(SETS[set_id][1], 1)):\n",
    "        image_id = 10\n",
    "        img = load_file(get_file_path(set_id,image_id))\n",
    "        res = destroy_perspective(img)\n",
    "        show_img(img, True, 'init.pdf')\n",
    "        show_img(four_point_transform(img, res), True, 'fin.pdf')\n",
    "#         set_id = 0\n",
    "#         image_id = 4\n",
    "#         img = load_file(get_file_path(set_id,image_id))\n",
    "#         res = destroy_perspective(img)\n",
    "#         show_img(img, True)\n",
    "#         show_img(four_point_transform(img, res), True)\n",
    "#         image_id = 3\n",
    "#         img = load_file(get_file_path(set_id,image_id))\n",
    "#         res = destroy_perspective(img)\n",
    "#         show_img(img, True)\n",
    "#         show_img(four_point_transform(img, res), True)\n",
    "#         image_id = 6\n",
    "#         img = load_file(get_file_path(set_id,image_id))\n",
    "#         res = destroy_perspective(img)\n",
    "#         show_img(img, True)\n",
    "#         show_img(four_point_transform(img, res), True)\n",
    "#         image_id = 7\n",
    "#         img = load_file(get_file_path(set_id,image_id))\n",
    "#         res = destroy_perspective(img)\n",
    "#         show_img(img, True)\n",
    "#         show_img(four_point_transform(img, res), True)"
   ]
  },
  {
   "cell_type": "code",
   "execution_count": null,
   "metadata": {},
   "outputs": [],
   "source": []
  }
 ],
 "metadata": {
  "kernelspec": {
   "display_name": "Python 3",
   "language": "python",
   "name": "python3"
  },
  "language_info": {
   "codemirror_mode": {
    "name": "ipython",
    "version": 3
   },
   "file_extension": ".py",
   "mimetype": "text/x-python",
   "name": "python",
   "nbconvert_exporter": "python",
   "pygments_lexer": "ipython3",
   "version": "3.6.7"
  }
 },
 "nbformat": 4,
 "nbformat_minor": 2
}
